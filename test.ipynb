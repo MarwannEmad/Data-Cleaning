{
 "cells": [
  {
   "cell_type": "markdown",
   "metadata": {},
   "source": [
    "#### Importing Libraries"
   ]
  },
  {
   "cell_type": "code",
   "execution_count": 338,
   "metadata": {},
   "outputs": [],
   "source": [
    "import pandas as pd "
   ]
  },
  {
   "cell_type": "markdown",
   "metadata": {},
   "source": [
    "#### Read The Data \n"
   ]
  },
  {
   "cell_type": "code",
   "execution_count": 339,
   "metadata": {},
   "outputs": [],
   "source": [
    "xls = pd.ExcelFile('data.xlsx')\n",
    "df1 = pd.read_excel(xls, 'sports')\n",
    "df2 = pd.read_excel(xls, 'history')\n",
    "df3 = pd.read_excel(xls, 'geography')\n",
    "df4 = pd.read_excel(xls, 'art')\n",
    "df5 = pd.read_excel(xls, 'science')\n",
    "df6 = pd.read_excel(xls, 'games')\n",
    "df7 = pd.read_excel(xls, 'general')\n",
    "\n",
    "df = pd.concat([df1, df2, df3, df4, df5, df6, df7])"
   ]
  },
  {
   "cell_type": "markdown",
   "metadata": {},
   "source": [
    "Count of rows"
   ]
  },
  {
   "cell_type": "code",
   "execution_count": 340,
   "metadata": {},
   "outputs": [
    {
     "data": {
      "text/plain": [
       "4980"
      ]
     },
     "execution_count": 340,
     "metadata": {},
     "output_type": "execute_result"
    }
   ],
   "source": [
    "df.shape[0]"
   ]
  },
  {
   "cell_type": "markdown",
   "metadata": {},
   "source": [
    "### Trimming each Question (remove spaces from each side) and all column"
   ]
  },
  {
   "cell_type": "code",
   "execution_count": 341,
   "metadata": {},
   "outputs": [],
   "source": [
    "df = df.apply(lambda x: x.strip() if isinstance(x, str) else x);"
   ]
  },
  {
   "cell_type": "markdown",
   "metadata": {},
   "source": [
    "#### Showing First 5 rows as a sample"
   ]
  },
  {
   "cell_type": "code",
   "execution_count": 342,
   "metadata": {},
   "outputs": [
    {
     "data": {
      "text/html": [
       "<div>\n",
       "<style scoped>\n",
       "    .dataframe tbody tr th:only-of-type {\n",
       "        vertical-align: middle;\n",
       "    }\n",
       "\n",
       "    .dataframe tbody tr th {\n",
       "        vertical-align: top;\n",
       "    }\n",
       "\n",
       "    .dataframe thead th {\n",
       "        text-align: right;\n",
       "    }\n",
       "</style>\n",
       "<table border=\"1\" class=\"dataframe\">\n",
       "  <thead>\n",
       "    <tr style=\"text-align: right;\">\n",
       "      <th></th>\n",
       "      <th>index</th>\n",
       "      <th>id</th>\n",
       "      <th>categoryId</th>\n",
       "      <th>categoryName</th>\n",
       "      <th>question</th>\n",
       "      <th>answers</th>\n",
       "      <th>answers.1</th>\n",
       "      <th>answers.2</th>\n",
       "      <th>answers.3</th>\n",
       "      <th>tier</th>\n",
       "      <th>hasPhoto</th>\n",
       "      <th>isNumeric</th>\n",
       "      <th>metadata</th>\n",
       "    </tr>\n",
       "  </thead>\n",
       "  <tbody>\n",
       "    <tr>\n",
       "      <th>0</th>\n",
       "      <td>0</td>\n",
       "      <td>q_0</td>\n",
       "      <td>sports</td>\n",
       "      <td>رياضة</td>\n",
       "      <td>مع ٢٠٢ مباراة نظيفة، أي حارس مرمى لديه أفضل سج...</td>\n",
       "      <td>بيتر تشيك</td>\n",
       "      <td>ياسين بونو</td>\n",
       "      <td>مانويل نوير</td>\n",
       "      <td>تيبو كورتوا</td>\n",
       "      <td>1</td>\n",
       "      <td>0</td>\n",
       "      <td>0</td>\n",
       "      <td>NaN</td>\n",
       "    </tr>\n",
       "    <tr>\n",
       "      <th>1</th>\n",
       "      <td>1</td>\n",
       "      <td>q_1</td>\n",
       "      <td>sports</td>\n",
       "      <td>رياضة</td>\n",
       "      <td>كم عدد الأندية التي شاركت في الموسم الافتتاحي ...</td>\n",
       "      <td>22</td>\n",
       "      <td>23</td>\n",
       "      <td>24</td>\n",
       "      <td>25</td>\n",
       "      <td>1</td>\n",
       "      <td>0</td>\n",
       "      <td>1</td>\n",
       "      <td>NaN</td>\n",
       "    </tr>\n",
       "    <tr>\n",
       "      <th>2</th>\n",
       "      <td>2</td>\n",
       "      <td>q_2</td>\n",
       "      <td>sports</td>\n",
       "      <td>رياضة</td>\n",
       "      <td>من هو لاعب كرة القدم السويدي الذي أدرج بندا في...</td>\n",
       "      <td>ستيفان شوارز</td>\n",
       "      <td>روبين أولسين</td>\n",
       "      <td>أرمنتيروس</td>\n",
       "      <td>ألبرت اولسون</td>\n",
       "      <td>1</td>\n",
       "      <td>0</td>\n",
       "      <td>0</td>\n",
       "      <td>NaN</td>\n",
       "    </tr>\n",
       "    <tr>\n",
       "      <th>3</th>\n",
       "      <td>3</td>\n",
       "      <td>q_3</td>\n",
       "      <td>sports</td>\n",
       "      <td>رياضة</td>\n",
       "      <td>أي لاعب كرة قدم حائز على جائزة الكرة الذهبية ك...</td>\n",
       "      <td>كريستيانو رونالدو</td>\n",
       "      <td>جاريث بيل</td>\n",
       "      <td>محمد صلاح</td>\n",
       "      <td>ساديو ماني</td>\n",
       "      <td>1</td>\n",
       "      <td>0</td>\n",
       "      <td>0</td>\n",
       "      <td>NaN</td>\n",
       "    </tr>\n",
       "    <tr>\n",
       "      <th>4</th>\n",
       "      <td>4</td>\n",
       "      <td>q_4</td>\n",
       "      <td>sports</td>\n",
       "      <td>رياضة</td>\n",
       "      <td>اعتزل ميسي دوليا بشكل مشهور في أي عام قبل أن ي...</td>\n",
       "      <td>2016</td>\n",
       "      <td>2014</td>\n",
       "      <td>2012</td>\n",
       "      <td>2018</td>\n",
       "      <td>1</td>\n",
       "      <td>0</td>\n",
       "      <td>1</td>\n",
       "      <td>NaN</td>\n",
       "    </tr>\n",
       "  </tbody>\n",
       "</table>\n",
       "</div>"
      ],
      "text/plain": [
       "   index   id categoryId categoryName  \\\n",
       "0      0  q_0     sports        رياضة   \n",
       "1      1  q_1     sports        رياضة   \n",
       "2      2  q_2     sports        رياضة   \n",
       "3      3  q_3     sports        رياضة   \n",
       "4      4  q_4     sports        رياضة   \n",
       "\n",
       "                                            question            answers  \\\n",
       "0  مع ٢٠٢ مباراة نظيفة، أي حارس مرمى لديه أفضل سج...          بيتر تشيك   \n",
       "1  كم عدد الأندية التي شاركت في الموسم الافتتاحي ...                 22   \n",
       "2  من هو لاعب كرة القدم السويدي الذي أدرج بندا في...       ستيفان شوارز   \n",
       "3  أي لاعب كرة قدم حائز على جائزة الكرة الذهبية ك...  كريستيانو رونالدو   \n",
       "4  اعتزل ميسي دوليا بشكل مشهور في أي عام قبل أن ي...               2016   \n",
       "\n",
       "      answers.1    answers.2     answers.3  tier  hasPhoto  isNumeric  \\\n",
       "0    ياسين بونو  مانويل نوير   تيبو كورتوا     1         0          0   \n",
       "1            23           24            25     1         0          1   \n",
       "2  روبين أولسين    أرمنتيروس  ألبرت اولسون     1         0          0   \n",
       "3     جاريث بيل    محمد صلاح    ساديو ماني     1         0          0   \n",
       "4          2014         2012          2018     1         0          1   \n",
       "\n",
       "   metadata  \n",
       "0       NaN  \n",
       "1       NaN  \n",
       "2       NaN  \n",
       "3       NaN  \n",
       "4       NaN  "
      ]
     },
     "execution_count": 342,
     "metadata": {},
     "output_type": "execute_result"
    }
   ],
   "source": [
    "df.head()"
   ]
  },
  {
   "cell_type": "markdown",
   "metadata": {},
   "source": [
    "We will perform text cleaning:\n"
   ]
  },
  {
   "cell_type": "code",
   "execution_count": 343,
   "metadata": {},
   "outputs": [
    {
     "data": {
      "text/plain": [
       "0"
      ]
     },
     "execution_count": 343,
     "metadata": {},
     "output_type": "execute_result"
    }
   ],
   "source": [
    "df.duplicated().sum()"
   ]
  },
  {
   "cell_type": "markdown",
   "metadata": {},
   "source": [
    "Conclusion: no full row duplicated with another"
   ]
  },
  {
   "cell_type": "markdown",
   "metadata": {},
   "source": [
    "We then will check the duplication of each column separatly:"
   ]
  },
  {
   "cell_type": "code",
   "execution_count": 344,
   "metadata": {},
   "outputs": [
    {
     "name": "stdout",
     "output_type": "stream",
     "text": [
      "Column 'index' has 0 duplicate entries.\n",
      "Column 'id' has 0 duplicate entries.\n",
      "Column 'categoryId' has 4973 duplicate entries.\n",
      "Column 'categoryName' has 4973 duplicate entries.\n",
      "Column 'question' has 435 duplicate entries.\n",
      "Column 'answers' has 1789 duplicate entries.\n",
      "Column 'answers.1' has 2237 duplicate entries.\n",
      "Column 'answers.2' has 2151 duplicate entries.\n",
      "Column 'answers.3' has 2081 duplicate entries.\n",
      "Column 'tier' has 4979 duplicate entries.\n",
      "Column 'hasPhoto' has 4978 duplicate entries.\n",
      "Column 'isNumeric' has 4978 duplicate entries.\n",
      "Column 'metadata' has 4979 duplicate entries.\n"
     ]
    }
   ],
   "source": [
    "# Initialize a dictionary to store the count of duplicates for each column\n",
    "duplicates_count = {}\n",
    "\n",
    "# Loop through each column in the DataFrame\n",
    "for column in df.columns:\n",
    "    # Calculate the number of duplicate entries in the column\n",
    "    duplicates_count[column] = df[column].duplicated().sum()\n",
    "\n",
    "# Display the count of duplicates for each column\n",
    "for column, count in duplicates_count.items():\n",
    "    print(f\"Column '{column}' has {count} duplicate entries.\")\n"
   ]
  },
  {
   "cell_type": "markdown",
   "metadata": {},
   "source": [
    "Conclusion: We have found that there are 436 duplicated question which make sense."
   ]
  },
  {
   "cell_type": "markdown",
   "metadata": {},
   "source": [
    "Overview of the duplicated question "
   ]
  },
  {
   "cell_type": "code",
   "execution_count": 345,
   "metadata": {},
   "outputs": [
    {
     "data": {
      "text/plain": [
       "question\n",
       "ما هو اسم هذا اللاعب؟                    82\n",
       "من الرياضى صاحب هذه الصورة ؟             58\n",
       "من صاحب هذه الصورة ؟                     48\n",
       "ما هو أسم هذا المصارع؟                   35\n",
       "ما هو اسم الشخصية الخيالية الاتية ؟      28\n",
       "                                         ..\n",
       "ما هو الطائر الذي يبيض في عش غير عشه؟     1\n",
       "ما هي نسبة الماء في جسم الإنسان؟          1\n",
       "ما هو لون الرئتين السليمتين؟              1\n",
       "من هو مكتشف الأنسولين؟                    1\n",
       "من هو الصحابي الملقب بحبر الأمة؟          1\n",
       "Name: count, Length: 127, dtype: int64"
      ]
     },
     "execution_count": 345,
     "metadata": {},
     "output_type": "execute_result"
    }
   ],
   "source": [
    "df[df['question'].duplicated()]['question'].value_counts()"
   ]
  },
  {
   "cell_type": "markdown",
   "metadata": {},
   "source": [
    "Conclusion:\n",
    "\n",
    " We found that some question related to hasPhoto Column is duplicated and this make sense but other question like: \n",
    "\n",
    "ما هي نسبة الماء في جسم الإنسان؟                       \n",
    "ما هو لون الرئتين السليمتين؟                           \n",
    "من هو مكتشف الأنسولين؟                                 \n",
    "ما هي الحيوانات التي يستخدمها الفرسان في الفروسية؟     \n",
    "من هو الصحابي الملقب بحبر الأمة؟                       "
   ]
  },
  {
   "cell_type": "markdown",
   "metadata": {},
   "source": [
    "We need to make sure that the question we select has 0 value in 'hasPhoto' column"
   ]
  },
  {
   "cell_type": "code",
   "execution_count": 346,
   "metadata": {},
   "outputs": [
    {
     "data": {
      "text/plain": [
       "question\n",
       "ما هي عاصمة كندا؟                        3\n",
       "ما هو أطول نهر في العالم؟                3\n",
       "من هو مخترع المصباح الكهربائي؟           3\n",
       "ما هو الحيوان الذي لا يشرب الماء؟        3\n",
       "أين تم افتتاح أول بنك للدم في العالم؟    3\n",
       "                                        ..\n",
       "ما معنى اسم مهند؟                        2\n",
       "ما معنى اسم ملهم؟                        2\n",
       "ما معنى اسم قسورة؟                       2\n",
       "ما معنى اسم سائد؟                        2\n",
       "من هو مكتشف أمريكا؟                      2\n",
       "Name: count, Length: 118, dtype: int64"
      ]
     },
     "execution_count": 346,
     "metadata": {},
     "output_type": "execute_result"
    }
   ],
   "source": [
    "\n",
    "# Step 1: Identify duplicate questions\n",
    "duplicate_questions = df[df['question'].duplicated(keep=False)]\n",
    "\n",
    "# Step 2: Filter these duplicates by hasphoto equal to 0\n",
    "filtered_duplicates = duplicate_questions[duplicate_questions['hasPhoto'] == 0]\n",
    "\n",
    "# Step 3: Count the duplicates in the 'question' column\n",
    "filtered_duplicates['question'].value_counts()"
   ]
  },
  {
   "cell_type": "markdown",
   "metadata": {},
   "source": [
    "We should calculate the count of duplicated questions "
   ]
  },
  {
   "cell_type": "code",
   "execution_count": 347,
   "metadata": {},
   "outputs": [
    {
     "data": {
      "text/plain": [
       "241"
      ]
     },
     "execution_count": 347,
     "metadata": {},
     "output_type": "execute_result"
    }
   ],
   "source": [
    "filtered_duplicates.shape[0]"
   ]
  },
  {
   "cell_type": "markdown",
   "metadata": {},
   "source": [
    "Samples "
   ]
  },
  {
   "cell_type": "code",
   "execution_count": 348,
   "metadata": {},
   "outputs": [
    {
     "data": {
      "text/html": [
       "<div>\n",
       "<style scoped>\n",
       "    .dataframe tbody tr th:only-of-type {\n",
       "        vertical-align: middle;\n",
       "    }\n",
       "\n",
       "    .dataframe tbody tr th {\n",
       "        vertical-align: top;\n",
       "    }\n",
       "\n",
       "    .dataframe thead th {\n",
       "        text-align: right;\n",
       "    }\n",
       "</style>\n",
       "<table border=\"1\" class=\"dataframe\">\n",
       "  <thead>\n",
       "    <tr style=\"text-align: right;\">\n",
       "      <th></th>\n",
       "      <th>index</th>\n",
       "      <th>id</th>\n",
       "      <th>categoryId</th>\n",
       "      <th>categoryName</th>\n",
       "      <th>question</th>\n",
       "      <th>answers</th>\n",
       "      <th>answers.1</th>\n",
       "      <th>answers.2</th>\n",
       "      <th>answers.3</th>\n",
       "      <th>tier</th>\n",
       "      <th>hasPhoto</th>\n",
       "      <th>isNumeric</th>\n",
       "      <th>metadata</th>\n",
       "    </tr>\n",
       "  </thead>\n",
       "  <tbody>\n",
       "    <tr>\n",
       "      <th>43</th>\n",
       "      <td>10043</td>\n",
       "      <td>q_10043</td>\n",
       "      <td>history</td>\n",
       "      <td>تاريخ</td>\n",
       "      <td>من هو الصحابي الملقب بحبر الأمة؟</td>\n",
       "      <td>عبد الله بن العباس</td>\n",
       "      <td>عثمان بن عفان</td>\n",
       "      <td>خالد بن الوليد</td>\n",
       "      <td>ابو بكر الصديق</td>\n",
       "      <td>1</td>\n",
       "      <td>0</td>\n",
       "      <td>0</td>\n",
       "      <td>NaN</td>\n",
       "    </tr>\n",
       "    <tr>\n",
       "      <th>679</th>\n",
       "      <td>60679</td>\n",
       "      <td>q_60679</td>\n",
       "      <td>general</td>\n",
       "      <td>عام</td>\n",
       "      <td>من هو الصحابي الملقب بحبر الأمة؟</td>\n",
       "      <td>عبد الله بن العباس</td>\n",
       "      <td>عمر بن الخطاب</td>\n",
       "      <td>عثمان بن عفان</td>\n",
       "      <td>أبو هريرة</td>\n",
       "      <td>1</td>\n",
       "      <td>0</td>\n",
       "      <td>0</td>\n",
       "      <td>NaN</td>\n",
       "    </tr>\n",
       "  </tbody>\n",
       "</table>\n",
       "</div>"
      ],
      "text/plain": [
       "     index       id categoryId categoryName                          question  \\\n",
       "43   10043  q_10043    history        تاريخ  من هو الصحابي الملقب بحبر الأمة؟   \n",
       "679  60679  q_60679    general          عام  من هو الصحابي الملقب بحبر الأمة؟   \n",
       "\n",
       "                answers      answers.1       answers.2       answers.3  tier  \\\n",
       "43   عبد الله بن العباس  عثمان بن عفان  خالد بن الوليد  ابو بكر الصديق     1   \n",
       "679  عبد الله بن العباس  عمر بن الخطاب   عثمان بن عفان       أبو هريرة     1   \n",
       "\n",
       "     hasPhoto  isNumeric  metadata  \n",
       "43          0          0       NaN  \n",
       "679         0          0       NaN  "
      ]
     },
     "execution_count": 348,
     "metadata": {},
     "output_type": "execute_result"
    }
   ],
   "source": [
    "df[df['question'] == 'من هو الصحابي الملقب بحبر الأمة؟']"
   ]
  },
  {
   "cell_type": "code",
   "execution_count": 349,
   "metadata": {},
   "outputs": [
    {
     "data": {
      "text/html": [
       "<div>\n",
       "<style scoped>\n",
       "    .dataframe tbody tr th:only-of-type {\n",
       "        vertical-align: middle;\n",
       "    }\n",
       "\n",
       "    .dataframe tbody tr th {\n",
       "        vertical-align: top;\n",
       "    }\n",
       "\n",
       "    .dataframe thead th {\n",
       "        text-align: right;\n",
       "    }\n",
       "</style>\n",
       "<table border=\"1\" class=\"dataframe\">\n",
       "  <thead>\n",
       "    <tr style=\"text-align: right;\">\n",
       "      <th></th>\n",
       "      <th>index</th>\n",
       "      <th>id</th>\n",
       "      <th>categoryId</th>\n",
       "      <th>categoryName</th>\n",
       "      <th>question</th>\n",
       "      <th>answers</th>\n",
       "      <th>answers.1</th>\n",
       "      <th>answers.2</th>\n",
       "      <th>answers.3</th>\n",
       "      <th>tier</th>\n",
       "      <th>hasPhoto</th>\n",
       "      <th>isNumeric</th>\n",
       "      <th>metadata</th>\n",
       "    </tr>\n",
       "  </thead>\n",
       "  <tbody>\n",
       "    <tr>\n",
       "      <th>339</th>\n",
       "      <td>20339</td>\n",
       "      <td>q_20339</td>\n",
       "      <td>geography</td>\n",
       "      <td>جغرافيا</td>\n",
       "      <td>ما معنى اسم آسر؟</td>\n",
       "      <td>القوي الشديد</td>\n",
       "      <td>الطويل</td>\n",
       "      <td>عريض الكتفين</td>\n",
       "      <td>الشجاع</td>\n",
       "      <td>1</td>\n",
       "      <td>0</td>\n",
       "      <td>0</td>\n",
       "      <td>NaN</td>\n",
       "    </tr>\n",
       "    <tr>\n",
       "      <th>1046</th>\n",
       "      <td>61046</td>\n",
       "      <td>q_61046</td>\n",
       "      <td>general</td>\n",
       "      <td>عام</td>\n",
       "      <td>ما معنى اسم آسر؟</td>\n",
       "      <td>القوي الشديد</td>\n",
       "      <td>الطويل</td>\n",
       "      <td>عريض الكتفين</td>\n",
       "      <td>الشجاع</td>\n",
       "      <td>1</td>\n",
       "      <td>0</td>\n",
       "      <td>0</td>\n",
       "      <td>NaN</td>\n",
       "    </tr>\n",
       "  </tbody>\n",
       "</table>\n",
       "</div>"
      ],
      "text/plain": [
       "      index       id categoryId categoryName          question       answers  \\\n",
       "339   20339  q_20339  geography      جغرافيا  ما معنى اسم آسر؟  القوي الشديد   \n",
       "1046  61046  q_61046    general          عام  ما معنى اسم آسر؟  القوي الشديد   \n",
       "\n",
       "     answers.1     answers.2 answers.3  tier  hasPhoto  isNumeric  metadata  \n",
       "339     الطويل  عريض الكتفين    الشجاع     1         0          0       NaN  \n",
       "1046    الطويل  عريض الكتفين    الشجاع     1         0          0       NaN  "
      ]
     },
     "execution_count": 349,
     "metadata": {},
     "output_type": "execute_result"
    }
   ],
   "source": [
    "df[df['question'] == 'ما معنى اسم آسر؟']"
   ]
  },
  {
   "cell_type": "markdown",
   "metadata": {},
   "source": [
    "We will take action to delete the duplicated column"
   ]
  },
  {
   "cell_type": "markdown",
   "metadata": {},
   "source": [
    "Last Conclusion:\n",
    "Most of that duplicated question related more to general question so we will change the category to it to insure integrity"
   ]
  },
  {
   "cell_type": "code",
   "execution_count": 350,
   "metadata": {},
   "outputs": [],
   "source": [
    "\n",
    "# Get the question_ids of the duplicates\n",
    "duplicate_question_ids = filtered_duplicates['id'].tolist()\n",
    "\n",
    "# Remove duplicate questions from the main DataFrame using question_id\n",
    "cleaned_df = df[~df['id'].isin(duplicate_question_ids)]\n",
    "\n",
    "# Remove duplicates from the filtered_duplicates DataFrame, keeping one instance\n",
    "deduplicated_filtered_duplicates = filtered_duplicates.drop_duplicates(subset='question')\n",
    "\n",
    "# Change category to general\n",
    "deduplicated_filtered_duplicates.loc[:, 'categoryId'] = 'general'\n",
    "deduplicated_filtered_duplicates.loc[:, 'categoryName'] = 'عام'\n",
    "\n",
    "# Concatenate the cleaned DataFrame with the deduplicated filtered_duplicates DataFrame\n",
    "final_df = pd.concat([cleaned_df, deduplicated_filtered_duplicates], ignore_index=True)"
   ]
  },
  {
   "cell_type": "markdown",
   "metadata": {},
   "source": [
    "Comparing original data count with the new one "
   ]
  },
  {
   "cell_type": "code",
   "execution_count": 351,
   "metadata": {},
   "outputs": [
    {
     "data": {
      "text/plain": [
       "4980"
      ]
     },
     "execution_count": 351,
     "metadata": {},
     "output_type": "execute_result"
    }
   ],
   "source": [
    "# Original Data\n",
    "df.shape[0]"
   ]
  },
  {
   "cell_type": "code",
   "execution_count": 352,
   "metadata": {},
   "outputs": [
    {
     "data": {
      "text/plain": [
       "4857"
      ]
     },
     "execution_count": 352,
     "metadata": {},
     "output_type": "execute_result"
    }
   ],
   "source": [
    "# My Output\n",
    "final_df.shape[0]"
   ]
  },
  {
   "cell_type": "code",
   "execution_count": 353,
   "metadata": {},
   "outputs": [
    {
     "data": {
      "text/plain": [
       "123"
      ]
     },
     "execution_count": 353,
     "metadata": {},
     "output_type": "execute_result"
    }
   ],
   "source": [
    "df.shape[0] - final_df.shape[0]"
   ]
  },
  {
   "cell_type": "markdown",
   "metadata": {},
   "source": [
    "Sample"
   ]
  },
  {
   "cell_type": "code",
   "execution_count": 354,
   "metadata": {},
   "outputs": [
    {
     "data": {
      "text/html": [
       "<div>\n",
       "<style scoped>\n",
       "    .dataframe tbody tr th:only-of-type {\n",
       "        vertical-align: middle;\n",
       "    }\n",
       "\n",
       "    .dataframe tbody tr th {\n",
       "        vertical-align: top;\n",
       "    }\n",
       "\n",
       "    .dataframe thead th {\n",
       "        text-align: right;\n",
       "    }\n",
       "</style>\n",
       "<table border=\"1\" class=\"dataframe\">\n",
       "  <thead>\n",
       "    <tr style=\"text-align: right;\">\n",
       "      <th></th>\n",
       "      <th>index</th>\n",
       "      <th>id</th>\n",
       "      <th>categoryId</th>\n",
       "      <th>categoryName</th>\n",
       "      <th>question</th>\n",
       "      <th>answers</th>\n",
       "      <th>answers.1</th>\n",
       "      <th>answers.2</th>\n",
       "      <th>answers.3</th>\n",
       "      <th>tier</th>\n",
       "      <th>hasPhoto</th>\n",
       "      <th>isNumeric</th>\n",
       "      <th>metadata</th>\n",
       "    </tr>\n",
       "  </thead>\n",
       "  <tbody>\n",
       "    <tr>\n",
       "      <th>4776</th>\n",
       "      <td>20339</td>\n",
       "      <td>q_20339</td>\n",
       "      <td>general</td>\n",
       "      <td>عام</td>\n",
       "      <td>ما معنى اسم آسر؟</td>\n",
       "      <td>القوي الشديد</td>\n",
       "      <td>الطويل</td>\n",
       "      <td>عريض الكتفين</td>\n",
       "      <td>الشجاع</td>\n",
       "      <td>1</td>\n",
       "      <td>0</td>\n",
       "      <td>0</td>\n",
       "      <td>NaN</td>\n",
       "    </tr>\n",
       "  </tbody>\n",
       "</table>\n",
       "</div>"
      ],
      "text/plain": [
       "      index       id categoryId categoryName          question       answers  \\\n",
       "4776  20339  q_20339    general          عام  ما معنى اسم آسر؟  القوي الشديد   \n",
       "\n",
       "     answers.1     answers.2 answers.3  tier  hasPhoto  isNumeric  metadata  \n",
       "4776    الطويل  عريض الكتفين    الشجاع     1         0          0       NaN  "
      ]
     },
     "execution_count": 354,
     "metadata": {},
     "output_type": "execute_result"
    }
   ],
   "source": [
    "final_df[final_df['question'] == 'ما معنى اسم آسر؟']\n"
   ]
  },
  {
   "cell_type": "markdown",
   "metadata": {},
   "source": [
    "### Now We will Fix the ids and tables of the question"
   ]
  },
  {
   "cell_type": "markdown",
   "metadata": {},
   "source": [
    "1) We will make sheet of the sports\n",
    "2) We will make sheet of the history \n",
    "3) We will make sheet of the geography \n",
    "4) We will make sheet of the art \n",
    "5) We will make sheet of the science \n",
    "6) We will make sheet of the games \n",
    "7) We will make sheet of the general\n"
   ]
  },
  {
   "cell_type": "code",
   "execution_count": 355,
   "metadata": {},
   "outputs": [],
   "source": [
    "dfs = {\n",
    "'sports': final_df[final_df['categoryId'] =='sports'],\n",
    "'history':final_df[final_df['categoryId'] =='history'],\n",
    "'geography': final_df[final_df['categoryId'] =='geography'],\n",
    "'art': final_df[final_df['categoryId'] =='art'],\n",
    "'science':  final_df[final_df['categoryId'] =='science'],\n",
    "'games': final_df[final_df['categoryId'] =='games'],\n",
    "'general': final_df[final_df['categoryId'] =='general']\n",
    "}"
   ]
  },
  {
   "cell_type": "markdown",
   "metadata": {},
   "source": [
    "Function to retain question index"
   ]
  },
  {
   "cell_type": "code",
   "execution_count": 356,
   "metadata": {},
   "outputs": [],
   "source": [
    "def preprocess_dataframe(df, start_number=0):\n",
    "    # Store the original column order\n",
    "    original_columns = df.columns.tolist()\n",
    "    \n",
    "    # Create a copy to avoid modifying the original DataFrame\n",
    "    df = df.copy()\n",
    "    df = df.reset_index()\n",
    " \n",
    "    # Create a new ID column based on the pattern\n",
    "    df['id'] = 'q_' + (start_number + df.index).astype(str)\n",
    "    \n",
    "    # Reapply the original column order\n",
    "    df = df[original_columns + ['id']]\n",
    "    \n",
    "    return df"
   ]
  },
  {
   "cell_type": "code",
   "execution_count": 357,
   "metadata": {},
   "outputs": [],
   "source": [
    "start_number = 0\n",
    "for sheet_name, df in dfs.items():\n",
    "    dfs[sheet_name] = preprocess_dataframe(df,start_number)\n",
    "    start_number+= 10000\n"
   ]
  },
  {
   "cell_type": "markdown",
   "metadata": {},
   "source": [
    "Converting the data to excel sheet "
   ]
  },
  {
   "cell_type": "code",
   "execution_count": 358,
   "metadata": {},
   "outputs": [],
   "source": [
    "\n",
    "# Define the file path for the Excel file\n",
    "excel_file = \"Cleaned.xlsx\"\n",
    "\n",
    "# Create an Excel writer object\n",
    "with pd.ExcelWriter(excel_file) as writer:\n",
    "    # Loop through each DataFrame and write it to a separate sheet\n",
    "    for sheet_name, df in dfs.items():\n",
    "        df.to_excel(writer, sheet_name=sheet_name, index=False)"
   ]
  },
  {
   "cell_type": "code",
   "execution_count": null,
   "metadata": {},
   "outputs": [],
   "source": []
  }
 ],
 "metadata": {
  "kernelspec": {
   "display_name": "Python 3",
   "language": "python",
   "name": "python3"
  },
  "language_info": {
   "codemirror_mode": {
    "name": "ipython",
    "version": 3
   },
   "file_extension": ".py",
   "mimetype": "text/x-python",
   "name": "python",
   "nbconvert_exporter": "python",
   "pygments_lexer": "ipython3",
   "version": "3.12.3"
  }
 },
 "nbformat": 4,
 "nbformat_minor": 2
}
